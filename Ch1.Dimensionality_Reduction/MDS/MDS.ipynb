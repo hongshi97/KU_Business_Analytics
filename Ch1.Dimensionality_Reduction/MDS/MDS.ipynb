{
 "cells": [
  {
   "cell_type": "code",
   "execution_count": 36,
   "metadata": {},
   "outputs": [],
   "source": [
    "import numpy as np\n",
    "import pandas as pd \n",
    "import tensorflow as tf\n",
    "\n",
    "from tqdm import tqdm"
   ]
  },
  {
   "cell_type": "code",
   "execution_count": 173,
   "metadata": {},
   "outputs": [
    {
     "name": "stdout",
     "output_type": "stream",
     "text": [
      "(1000, 784) (1000,)\n"
     ]
    }
   ],
   "source": [
    "# MNIST 데이터셋 불러오기\n",
    "mnist = tf.keras.datasets.mnist\n",
    "(_, _), (x_D,y) = mnist.load_data() # 데이터가 비교적 적은 Test Data만 불러옴\n",
    "\n",
    "x_D = x_D.reshape(10000, -1) # Flatten 후, 각 Instance의 shape는 (784,) -> 784차원\n",
    "\n",
    "temp = np.concatenate([x_D, y.reshape(-1,1)], axis = 1) # 이후 시각화 단계에서 Label 별 Color 표시를 위해 임시로 X와 y를 Concat함\n",
    "np.random.shuffle(temp)\n",
    "\n",
    "n_samples = 1000 # 사용할 Instance 갯수\n",
    "\n",
    "x_D, y = temp[:n_samples,:-1], temp[:n_samples,-1] # 데이터 일부 샘플링\n",
    "\n",
    "print(x_D.shape, y.shape)\n"
   ]
  },
  {
   "cell_type": "markdown",
   "metadata": {},
   "source": [
    "# MDS Procedure\n",
    "1. Proximity/Distance Matrix 생성\n",
    "2. Distance 정보를 보존하는 저차원 상에서의 좌표 추출"
   ]
  },
  {
   "cell_type": "markdown",
   "metadata": {},
   "source": [
    "## Step1. Proximity/Distance Matrix 생성"
   ]
  },
  {
   "cell_type": "code",
   "execution_count": 196,
   "metadata": {},
   "outputs": [
    {
     "name": "stdout",
     "output_type": "stream",
     "text": [
      "(1000, 1000)\n"
     ]
    },
    {
     "name": "stderr",
     "output_type": "stream",
     "text": [
      "100%|██████████| 1000/1000 [00:07<00:00, 126.95it/s]"
     ]
    },
    {
     "name": "stdout",
     "output_type": "stream",
     "text": [
      "[[   0.         2674.51079639 2294.30054701 ... 2817.29799631\n",
      "  2580.19921711 2405.40162967]\n",
      " [2461.57998042    0.         2356.82095205 ... 2744.01020406\n",
      "  2490.93275702 2213.93428087]\n",
      " [1963.75329408 2289.26822369    0.         ... 2553.99823806\n",
      "  2198.79535201 1894.83350192]\n",
      " ...\n",
      " [2068.92822495 2272.25174662 2019.17879347 ...    0.\n",
      "  2153.49529835 2110.77023856]\n",
      " [2155.5259219  2410.71151323 1855.96901914 ... 2571.14565904\n",
      "     0.         2114.42025151]\n",
      " [2085.61669537 2312.01405705 1955.4707873  ... 2519.56643096\n",
      "  2156.97311063    0.        ]]\n"
     ]
    },
    {
     "name": "stderr",
     "output_type": "stream",
     "text": [
      "\n"
     ]
    }
   ],
   "source": [
    "D_matrix = np.zeros((len(x_D), len(x_D)))\n",
    "print(D_matrix.shape)\n",
    "\n",
    "for i in tqdm(range(len(x_D))):\n",
    "    for j in range(len(x_D)):\n",
    "        D_matrix[i,j] = (np.linalg.norm(x_D[i,:] - x_D[j,:])) \n",
    "\n",
    "print(D_matrix)"
   ]
  },
  {
   "cell_type": "markdown",
   "metadata": {},
   "source": [
    "## Step2. 저차원 좌표 추출"
   ]
  },
  {
   "cell_type": "markdown",
   "metadata": {},
   "source": [
    "### Step 2-1. 내적 행렬 B 계산"
   ]
  },
  {
   "cell_type": "code",
   "execution_count": 197,
   "metadata": {},
   "outputs": [
    {
     "name": "stdout",
     "output_type": "stream",
     "text": [
      "(1000, 1000) (1000, 1000)\n"
     ]
    }
   ],
   "source": [
    "n = len(D_matrix)\n",
    "H = np.eye(n)-(1/n)*(np.ones((n,n)))\n",
    "B = -H.dot(D_matrix).dot(H)/2\n",
    "\n",
    "print(H.shape, B.shape)"
   ]
  },
  {
   "cell_type": "markdown",
   "metadata": {},
   "source": [
    "### Step 2-2. 행렬 B의 Eigen Value 및 Eigen Vector 구하기"
   ]
  },
  {
   "cell_type": "code",
   "execution_count": 198,
   "metadata": {},
   "outputs": [],
   "source": [
    "eigen_value, eigen_vector = np.linalg.eig(B)\n",
    "inverseEigenVectors = np.linalg.inv(eigen_vector) \n",
    "diagonal = inverseEigenVectors.dot(B).dot(eigen_vector)"
   ]
  },
  {
   "cell_type": "markdown",
   "metadata": {},
   "source": [
    "### Step 2-3. Target Dimension(저차원)으로 축소"
   ]
  },
  {
   "cell_type": "code",
   "execution_count": 199,
   "metadata": {},
   "outputs": [
    {
     "name": "stdout",
     "output_type": "stream",
     "text": [
      "(1000, 2)\n"
     ]
    }
   ],
   "source": [
    "target_dim = 2\n",
    "B_1 = eigen_vector[:,0:target_dim].dot(diagonal[0:target_dim,0:target_dim]).dot(eigen_vector[:,0:target_dim].T)\n",
    "diagonal[diagonal<1] = 0\n",
    "coordinate_X = eigen_vector[:,0:target_dim].dot(np.sqrt(diagonal[0:target_dim,0:target_dim]))\n",
    "print(coordinate_X.shape)"
   ]
  },
  {
   "cell_type": "markdown",
   "metadata": {},
   "source": [
    "## Target Dim(=2)로 차원 축소 후 시각화"
   ]
  },
  {
   "cell_type": "code",
   "execution_count": 200,
   "metadata": {},
   "outputs": [
    {
     "data": {
      "text/html": [
       "<div>\n",
       "<style scoped>\n",
       "    .dataframe tbody tr th:only-of-type {\n",
       "        vertical-align: middle;\n",
       "    }\n",
       "\n",
       "    .dataframe tbody tr th {\n",
       "        vertical-align: top;\n",
       "    }\n",
       "\n",
       "    .dataframe thead th {\n",
       "        text-align: right;\n",
       "    }\n",
       "</style>\n",
       "<table border=\"1\" class=\"dataframe\">\n",
       "  <thead>\n",
       "    <tr style=\"text-align: right;\">\n",
       "      <th></th>\n",
       "      <th>dim 1</th>\n",
       "      <th>dim 2</th>\n",
       "      <th>label</th>\n",
       "    </tr>\n",
       "  </thead>\n",
       "  <tbody>\n",
       "    <tr>\n",
       "      <th>329</th>\n",
       "      <td>-2.890469-0.000000j</td>\n",
       "      <td>-5.167629-0.000000j</td>\n",
       "      <td>4</td>\n",
       "    </tr>\n",
       "    <tr>\n",
       "      <th>862</th>\n",
       "      <td>3.863566+0.000000j</td>\n",
       "      <td>6.597356+0.000000j</td>\n",
       "      <td>3</td>\n",
       "    </tr>\n",
       "    <tr>\n",
       "      <th>95</th>\n",
       "      <td>1.793333+0.000000j</td>\n",
       "      <td>-4.759478-0.000000j</td>\n",
       "      <td>9</td>\n",
       "    </tr>\n",
       "    <tr>\n",
       "      <th>716</th>\n",
       "      <td>-6.772247-0.000000j</td>\n",
       "      <td>7.170560+0.000000j</td>\n",
       "      <td>1</td>\n",
       "    </tr>\n",
       "    <tr>\n",
       "      <th>448</th>\n",
       "      <td>-2.572508-0.000000j</td>\n",
       "      <td>2.942640+0.000000j</td>\n",
       "      <td>2</td>\n",
       "    </tr>\n",
       "    <tr>\n",
       "      <th>44</th>\n",
       "      <td>-7.021475-0.000000j</td>\n",
       "      <td>1.639211+0.000000j</td>\n",
       "      <td>1</td>\n",
       "    </tr>\n",
       "    <tr>\n",
       "      <th>128</th>\n",
       "      <td>-1.388045-0.000000j</td>\n",
       "      <td>1.868291+0.000000j</td>\n",
       "      <td>2</td>\n",
       "    </tr>\n",
       "    <tr>\n",
       "      <th>926</th>\n",
       "      <td>19.288941+0.000000j</td>\n",
       "      <td>2.888398+0.000000j</td>\n",
       "      <td>0</td>\n",
       "    </tr>\n",
       "    <tr>\n",
       "      <th>451</th>\n",
       "      <td>-5.551701-0.000000j</td>\n",
       "      <td>-4.029931-0.000000j</td>\n",
       "      <td>7</td>\n",
       "    </tr>\n",
       "    <tr>\n",
       "      <th>296</th>\n",
       "      <td>-2.993116-0.000000j</td>\n",
       "      <td>-0.053034-0.000000j</td>\n",
       "      <td>8</td>\n",
       "    </tr>\n",
       "  </tbody>\n",
       "</table>\n",
       "</div>"
      ],
      "text/plain": [
       "                   dim 1               dim 2  label\n",
       "329  -2.890469-0.000000j -5.167629-0.000000j      4\n",
       "862   3.863566+0.000000j  6.597356+0.000000j      3\n",
       "95    1.793333+0.000000j -4.759478-0.000000j      9\n",
       "716  -6.772247-0.000000j  7.170560+0.000000j      1\n",
       "448  -2.572508-0.000000j  2.942640+0.000000j      2\n",
       "44   -7.021475-0.000000j  1.639211+0.000000j      1\n",
       "128  -1.388045-0.000000j  1.868291+0.000000j      2\n",
       "926  19.288941+0.000000j  2.888398+0.000000j      0\n",
       "451  -5.551701-0.000000j -4.029931-0.000000j      7\n",
       "296  -2.993116-0.000000j -0.053034-0.000000j      8"
      ]
     },
     "execution_count": 200,
     "metadata": {},
     "output_type": "execute_result"
    }
   ],
   "source": [
    "df = pd.DataFrame({'dim 1':coordinate_X[:,0], 'dim 2':coordinate_X[:,1], 'label':y})\n",
    "df.sample(10)"
   ]
  },
  {
   "cell_type": "code",
   "execution_count": 201,
   "metadata": {},
   "outputs": [
    {
     "name": "stderr",
     "output_type": "stream",
     "text": [
      "c:\\Users\\SeongHee\\AppData\\Local\\Programs\\Python\\Python39\\lib\\site-packages\\matplotlib\\collections.py:206: ComplexWarning: Casting complex values to real discards the imaginary part\n",
      "  offsets = np.asanyarray(offsets, float)\n"
     ]
    },
    {
     "data": {
      "text/plain": [
       "<matplotlib.legend.Legend at 0x258cc75aa90>"
      ]
     },
     "execution_count": 201,
     "metadata": {},
     "output_type": "execute_result"
    },
    {
     "data": {
      "image/png": "[encoded data removed]",
      "text/plain": [
       "<Figure size 432x288 with 1 Axes>"
      ]
     },
     "metadata": {
      "needs_background": "light"
     },
     "output_type": "display_data"
    }
   ],
   "source": [
    "import matplotlib.pyplot as plt\n",
    "\n",
    "class_labels = np.unique(y).tolist()\n",
    "\n",
    "for class_label in class_labels:\n",
    "    plt.scatter(df[df['label'] == class_label].iloc[:,0], df[df['label'] == class_label].iloc[:,1], label = class_label)\n",
    "\n",
    "plt.xlabel('dim 1')\n",
    "plt.ylabel('dim 2')\n",
    "plt.legend()"
   ]
  }
 ],
 "metadata": {
  "hide_input": false,
  "kernelspec": {
   "display_name": "Python 3.9.7 64-bit",
   "language": "python",
   "name": "python3"
  },
  "language_info": {
   "codemirror_mode": {
    "name": "ipython",
    "version": 3
   },
   "file_extension": ".py",
   "mimetype": "text/x-python",
   "name": "python",
   "nbconvert_exporter": "python",
   "pygments_lexer": "ipython3",
   "version": "3.9.7"
  },
  "toc": {
   "base_numbering": 1,
   "nav_menu": {},
   "number_sections": true,
   "sideBar": true,
   "skip_h1_title": false,
   "title_cell": "Table of Contents",
   "title_sidebar": "Contents",
   "toc_cell": false,
   "toc_position": {},
   "toc_section_display": true,
   "toc_window_display": false
  },
  "varInspector": {
   "cols": {
    "lenName": 16,
    "lenType": 16,
    "lenVar": 40
   },
   "kernels_config": {
    "python": {
     "delete_cmd_postfix": "",
     "delete_cmd_prefix": "del ",
     "library": "var_list.py",
     "varRefreshCmd": "print(var_dic_list())"
    },
    "r": {
     "delete_cmd_postfix": ") ",
     "delete_cmd_prefix": "rm(",
     "library": "var_list.r",
     "varRefreshCmd": "cat(var_dic_list()) "
    }
   },
   "types_to_exclude": [
    "module",
    "function",
    "builtin_function_or_method",
    "instance",
    "_Feature"
   ],
   "window_display": false
  },
  "vscode": {
   "interpreter": {
    "hash": "a515d1d5607346a59740bb7da00d758fc18e14f06cc64b8ab74a2e43119f2282"
   }
  }
 },
 "nbformat": 4,
 "nbformat_minor": 4
}
