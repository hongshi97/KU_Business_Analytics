{
 "cells": [
  {
   "cell_type": "markdown",
   "metadata": {},
   "source": [
    "# Genetic Algorithm"
   ]
  },
  {
   "cell_type": "code",
   "execution_count": 1,
   "metadata": {},
   "outputs": [],
   "source": [
    "import numpy as np\n",
    "import pandas as pd\n",
    "import seaborn as sns\n",
    "import matplotlib.pyplot as plt\n",
    "\n",
    "from random import randint"
   ]
  },
  {
   "cell_type": "code",
   "execution_count": 2,
   "metadata": {},
   "outputs": [],
   "source": [
    "# 데이터 불러오기\n",
    "df_og = pd.read_csv(\"Parkinsson disease.csv\")  # 파킨슨 질병 데이터셋 사용\n",
    "df_og.drop(columns = ['name'], axis = 1, inplace=True)\n",
    "df = df_og.copy()"
   ]
  },
  {
   "cell_type": "code",
   "execution_count": 3,
   "metadata": {},
   "outputs": [
    {
     "name": "stdout",
     "output_type": "stream",
     "text": [
      "(195,) (195, 22)\n"
     ]
    }
   ],
   "source": [
    "# 독립 변수 및 종속 변수 할당\n",
    "Y = df.status\n",
    "X = df.drop(columns = ['status'], axis = 1)\n",
    "\n",
    "print(Y.shape, X.shape)"
   ]
  },
  {
   "cell_type": "code",
   "execution_count": 43,
   "metadata": {},
   "outputs": [],
   "source": [
    "class GA:\n",
    "    def __init__(self, X, Y, pop_size, n_feat, n_parents, mutation_rate, n_gen):\n",
    "        self.X = X\n",
    "        self.Y = Y\n",
    "        self.pop_size = pop_size\n",
    "        self.n_feat = n_feat\n",
    "        self.n_parents = n_parents\n",
    "        self.mutation_rate = mutation_rate\n",
    "        self.n_gen = n_gen\n",
    "\n",
    "        from sklearn.model_selection import train_test_split\n",
    "\n",
    "        self.train_X, self.test_X, self.train_Y, self.test_Y = train_test_split(X, Y, test_size = 0.25, shuffle = True, random_state= 12)\n",
    "\n",
    "\n",
    "    def initiation_of_pop(self, pop_size):\n",
    "        population = []\n",
    "        for i in range(self.pop_size):\n",
    "            chronosome = np.ones(self.n_feat, dtype = np.bool)\n",
    "            chronosome[:int(0.5*self.n_feat)] = False\n",
    "            np.random.shuffle(chronosome)\n",
    "            population.append(chronosome)\n",
    "        return population\n",
    "\n",
    "\n",
    "    def fitness_score(self, population): \n",
    "        scores = []\n",
    "        from sklearn.linear_model import LogisticRegression\n",
    "        from sklearn.metrics import f1_score\n",
    "        \n",
    "        model = LogisticRegression(random_state = 12, max_iter = 100)\n",
    "\n",
    "        for chronosome in population:\n",
    "            model.fit(self.train_X.iloc[:,chronosome],self.train_Y)\n",
    "            preds = model.predict(self.test_X.iloc[:,chronosome])\n",
    "            scores.append(f1_score(self.test_Y,preds))\n",
    "        scores, population = np.array(scores), np.array(population)\n",
    "        inds = np.argsort(scores)\n",
    "\n",
    "        return list(scores[inds][::-1]), list(population[inds,:][::-1])\n",
    "\n",
    "    \n",
    "    def selection(self, pop_after_fit):\n",
    "        population_nextgen = []\n",
    "        for i in range(self.n_parents):\n",
    "            population_nextgen.append(pop_after_fit[i])\n",
    "        return population_nextgen\n",
    "\n",
    "\n",
    "    def crossover(self, pop_after_sel):\n",
    "        pop_nextgen = pop_after_sel\n",
    "\n",
    "        for i in range(0, len(pop_after_sel), 2):\n",
    "            new_par = []\n",
    "            child_1, child_2 = pop_nextgen[i], pop_nextgen[i+1]\n",
    "            new_par = np.concatenate((child_1[:len(child_1)//2], child_2[len(child_1)//2:]))\n",
    "            pop_nextgen.append(new_par)\n",
    "        return pop_nextgen\n",
    "\n",
    "\n",
    "    def mutation(self, pop_after_cross):\n",
    "        mutation_range = int(self.mutation_rate * self.n_feat)\n",
    "        pop_next_gen = []\n",
    "        \n",
    "        for n in range(0, len(pop_after_cross)):\n",
    "            chrono = pop_after_cross[n]\n",
    "            rand_posi = []\n",
    "\n",
    "            for _ in range(0, mutation_range):\n",
    "                pos = randint(0, self.n_feat - 1)\n",
    "                rand_posi.append(pos)\n",
    "\n",
    "            for i in rand_posi:\n",
    "                chrono[i] = not chrono[i]\n",
    "\n",
    "            pop_next_gen.append(chrono)\n",
    "        return pop_next_gen    \n",
    "\n",
    "\n",
    "    def generations(self):\n",
    "        best_chrono = []\n",
    "        best_score = []\n",
    "        population_nextgen = self.initiation_of_pop(self.pop_size) \n",
    "\n",
    "        for i in range(self.n_gen):\n",
    "            scores, pop_after_fit = self.fitness_score(population_nextgen)\n",
    "\n",
    "            if i == 0:\n",
    "                print(f'Best score in first generation : {scores[:1]}')\n",
    "\n",
    "            if i == self.n_gen - 1:\n",
    "                print(f'Best score in Last generation ({i+1}-th generation): {scores[:1]}')\n",
    "\n",
    "            pop_after_sel = self.selection(pop_after_fit) \n",
    "            pop_after_cross = self.crossover(pop_after_sel)\n",
    "            population_nextgen = self.mutation(pop_after_cross) \n",
    "            best_chrono.append(pop_after_fit[0])\n",
    "            best_score.append(scores[0])\n",
    "\n",
    "        return best_chrono, best_score\n",
    "\n",
    "\n",
    "    def plot_gen_score(self, score):\n",
    "        gen = np.array(range(self.n_gen)) + 1\n",
    "        plt.figure(figsize = (25,4))\n",
    "        ax = sns.pointplot(x = gen, y = score, color = 'b')\n",
    "        ax.set(xlabel = \"Num of Generation\", ylabel = \"F1-score\")\n",
    "        plt.xticks(rotation = 45)\n",
    "        ax.set(ylim = (0.5 , 1))"
   ]
  },
  {
   "cell_type": "code",
   "execution_count": 37,
   "metadata": {},
   "outputs": [
    {
     "name": "stdout",
     "output_type": "stream",
     "text": [
      "Best score in first generation : [0.923076923076923]\n",
      "Best score in Last generation (100-th generation): [0.923076923076923]\n"
     ]
    }
   ],
   "source": [
    "import warnings\n",
    "warnings.filterwarnings('ignore')\n",
    "\n",
    "GA_test = GA(X = X, Y = Y, pop_size = 40, n_feat = X.shape[1], n_parents = 5, mutation_rate = .1, n_gen = 100)\n",
    "best_chrono, best_score = GA_test.generations()"
   ]
  },
  {
   "cell_type": "code",
   "execution_count": 44,
   "metadata": {},
   "outputs": [
    {
     "data": {
      "image/png": "[encoded data removed]",
      "text/plain": [
       "<Figure size 1800x288 with 1 Axes>"
      ]
     },
     "metadata": {
      "needs_background": "light"
     },
     "output_type": "display_data"
    }
   ],
   "source": [
    "GA_test.plot_gen_score(score = best_score)"
   ]
  }
 ],
 "metadata": {
  "kernelspec": {
   "display_name": "Python 3.9.7 64-bit",
   "language": "python",
   "name": "python3"
  },
  "language_info": {
   "codemirror_mode": {
    "name": "ipython",
    "version": 3
   },
   "file_extension": ".py",
   "mimetype": "text/x-python",
   "name": "python",
   "nbconvert_exporter": "python",
   "pygments_lexer": "ipython3",
   "version": "3.9.7"
  },
  "orig_nbformat": 4,
  "vscode": {
   "interpreter": {
    "hash": "a515d1d5607346a59740bb7da00d758fc18e14f06cc64b8ab74a2e43119f2282"
   }
  }
 },
 "nbformat": 4,
 "nbformat_minor": 2
}
