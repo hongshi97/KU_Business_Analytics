{
 "cells": [
  {
   "cell_type": "code",
   "execution_count": 1193,
   "metadata": {},
   "outputs": [],
   "source": [
    "import pandas as pd\n",
    "import numpy as np\n",
    "import matplotlib.pyplot as plt\n",
    "\n",
    "from sklearn.model_selection import train_test_split\n",
    "\n",
    "import warnings\n",
    "warnings.filterwarnings('ignore')"
   ]
  },
  {
   "cell_type": "markdown",
   "metadata": {},
   "source": [
    "## Prepare Dataset(Titanic)"
   ]
  },
  {
   "cell_type": "code",
   "execution_count": 1194,
   "metadata": {},
   "outputs": [],
   "source": [
    "# Titanic Dataset 불러오기\n",
    "import seaborn as sns\n",
    "df_og = sns.load_dataset('titanic')\n",
    "df_og.head()\n",
    "\n",
    "# 분석용 데이터셋 복사\n",
    "df = df_og.copy()"
   ]
  },
  {
   "cell_type": "code",
   "execution_count": 1195,
   "metadata": {},
   "outputs": [
    {
     "name": "stdout",
     "output_type": "stream",
     "text": [
      "<class 'pandas.core.frame.DataFrame'>\n",
      "RangeIndex: 891 entries, 0 to 890\n",
      "Data columns (total 15 columns):\n",
      " #   Column       Non-Null Count  Dtype   \n",
      "---  ------       --------------  -----   \n",
      " 0   survived     891 non-null    int64   \n",
      " 1   pclass       891 non-null    int64   \n",
      " 2   sex          891 non-null    object  \n",
      " 3   age          714 non-null    float64 \n",
      " 4   sibsp        891 non-null    int64   \n",
      " 5   parch        891 non-null    int64   \n",
      " 6   fare         891 non-null    float64 \n",
      " 7   embarked     889 non-null    object  \n",
      " 8   class        891 non-null    category\n",
      " 9   who          891 non-null    object  \n",
      " 10  adult_male   891 non-null    bool    \n",
      " 11  deck         203 non-null    category\n",
      " 12  embark_town  889 non-null    object  \n",
      " 13  alive        891 non-null    object  \n",
      " 14  alone        891 non-null    bool    \n",
      "dtypes: bool(2), category(2), float64(2), int64(4), object(5)\n",
      "memory usage: 80.7+ KB\n"
     ]
    }
   ],
   "source": [
    "df.info()"
   ]
  },
  {
   "cell_type": "code",
   "execution_count": 1196,
   "metadata": {},
   "outputs": [
    {
     "data": {
      "text/plain": [
       "0        man\n",
       "1      woman\n",
       "2      woman\n",
       "3      woman\n",
       "4        man\n",
       "       ...  \n",
       "886      man\n",
       "887    woman\n",
       "888    woman\n",
       "889      man\n",
       "890      man\n",
       "Name: who, Length: 891, dtype: object"
      ]
     },
     "metadata": {},
     "output_type": "display_data"
    },
    {
     "data": {
      "text/html": [
       "<div>\n",
       "<style scoped>\n",
       "    .dataframe tbody tr th:only-of-type {\n",
       "        vertical-align: middle;\n",
       "    }\n",
       "\n",
       "    .dataframe tbody tr th {\n",
       "        vertical-align: top;\n",
       "    }\n",
       "\n",
       "    .dataframe thead th {\n",
       "        text-align: right;\n",
       "    }\n",
       "</style>\n",
       "<table border=\"1\" class=\"dataframe\">\n",
       "  <thead>\n",
       "    <tr style=\"text-align: right;\">\n",
       "      <th></th>\n",
       "      <th>sex</th>\n",
       "      <th>who</th>\n",
       "    </tr>\n",
       "  </thead>\n",
       "  <tbody>\n",
       "    <tr>\n",
       "      <th>0</th>\n",
       "      <td>male</td>\n",
       "      <td>man</td>\n",
       "    </tr>\n",
       "    <tr>\n",
       "      <th>1</th>\n",
       "      <td>female</td>\n",
       "      <td>woman</td>\n",
       "    </tr>\n",
       "    <tr>\n",
       "      <th>2</th>\n",
       "      <td>female</td>\n",
       "      <td>woman</td>\n",
       "    </tr>\n",
       "    <tr>\n",
       "      <th>3</th>\n",
       "      <td>female</td>\n",
       "      <td>woman</td>\n",
       "    </tr>\n",
       "    <tr>\n",
       "      <th>4</th>\n",
       "      <td>male</td>\n",
       "      <td>man</td>\n",
       "    </tr>\n",
       "    <tr>\n",
       "      <th>...</th>\n",
       "      <td>...</td>\n",
       "      <td>...</td>\n",
       "    </tr>\n",
       "    <tr>\n",
       "      <th>886</th>\n",
       "      <td>male</td>\n",
       "      <td>man</td>\n",
       "    </tr>\n",
       "    <tr>\n",
       "      <th>887</th>\n",
       "      <td>female</td>\n",
       "      <td>woman</td>\n",
       "    </tr>\n",
       "    <tr>\n",
       "      <th>888</th>\n",
       "      <td>female</td>\n",
       "      <td>woman</td>\n",
       "    </tr>\n",
       "    <tr>\n",
       "      <th>889</th>\n",
       "      <td>male</td>\n",
       "      <td>man</td>\n",
       "    </tr>\n",
       "    <tr>\n",
       "      <th>890</th>\n",
       "      <td>male</td>\n",
       "      <td>man</td>\n",
       "    </tr>\n",
       "  </tbody>\n",
       "</table>\n",
       "<p>891 rows × 2 columns</p>\n",
       "</div>"
      ],
      "text/plain": [
       "        sex    who\n",
       "0      male    man\n",
       "1    female  woman\n",
       "2    female  woman\n",
       "3    female  woman\n",
       "4      male    man\n",
       "..      ...    ...\n",
       "886    male    man\n",
       "887  female  woman\n",
       "888  female  woman\n",
       "889    male    man\n",
       "890    male    man\n",
       "\n",
       "[891 rows x 2 columns]"
      ]
     },
     "metadata": {},
     "output_type": "display_data"
    }
   ],
   "source": [
    "# 변수 'who'가 무엇인지 확인\n",
    "display(df['who'])\n",
    "display(df.loc[:,['sex','who']]) # 'sex'와 'who'는 사실상 동일한 정보를 나타내는 변수 -> 변수명이 비교적 명확하지 않은 'who' 제거\n",
    "df.drop(columns = ['who'], inplace = True)"
   ]
  },
  {
   "cell_type": "code",
   "execution_count": 1197,
   "metadata": {},
   "outputs": [
    {
     "data": {
      "text/html": [
       "<div>\n",
       "<style scoped>\n",
       "    .dataframe tbody tr th:only-of-type {\n",
       "        vertical-align: middle;\n",
       "    }\n",
       "\n",
       "    .dataframe tbody tr th {\n",
       "        vertical-align: top;\n",
       "    }\n",
       "\n",
       "    .dataframe thead th {\n",
       "        text-align: right;\n",
       "    }\n",
       "</style>\n",
       "<table border=\"1\" class=\"dataframe\">\n",
       "  <thead>\n",
       "    <tr style=\"text-align: right;\">\n",
       "      <th></th>\n",
       "      <th>embarked</th>\n",
       "      <th>embark_town</th>\n",
       "    </tr>\n",
       "  </thead>\n",
       "  <tbody>\n",
       "    <tr>\n",
       "      <th>0</th>\n",
       "      <td>S</td>\n",
       "      <td>Southampton</td>\n",
       "    </tr>\n",
       "    <tr>\n",
       "      <th>1</th>\n",
       "      <td>C</td>\n",
       "      <td>Cherbourg</td>\n",
       "    </tr>\n",
       "    <tr>\n",
       "      <th>2</th>\n",
       "      <td>S</td>\n",
       "      <td>Southampton</td>\n",
       "    </tr>\n",
       "    <tr>\n",
       "      <th>3</th>\n",
       "      <td>S</td>\n",
       "      <td>Southampton</td>\n",
       "    </tr>\n",
       "    <tr>\n",
       "      <th>4</th>\n",
       "      <td>S</td>\n",
       "      <td>Southampton</td>\n",
       "    </tr>\n",
       "    <tr>\n",
       "      <th>...</th>\n",
       "      <td>...</td>\n",
       "      <td>...</td>\n",
       "    </tr>\n",
       "    <tr>\n",
       "      <th>886</th>\n",
       "      <td>S</td>\n",
       "      <td>Southampton</td>\n",
       "    </tr>\n",
       "    <tr>\n",
       "      <th>887</th>\n",
       "      <td>S</td>\n",
       "      <td>Southampton</td>\n",
       "    </tr>\n",
       "    <tr>\n",
       "      <th>888</th>\n",
       "      <td>S</td>\n",
       "      <td>Southampton</td>\n",
       "    </tr>\n",
       "    <tr>\n",
       "      <th>889</th>\n",
       "      <td>C</td>\n",
       "      <td>Cherbourg</td>\n",
       "    </tr>\n",
       "    <tr>\n",
       "      <th>890</th>\n",
       "      <td>Q</td>\n",
       "      <td>Queenstown</td>\n",
       "    </tr>\n",
       "  </tbody>\n",
       "</table>\n",
       "<p>891 rows × 2 columns</p>\n",
       "</div>"
      ],
      "text/plain": [
       "    embarked  embark_town\n",
       "0          S  Southampton\n",
       "1          C    Cherbourg\n",
       "2          S  Southampton\n",
       "3          S  Southampton\n",
       "4          S  Southampton\n",
       "..       ...          ...\n",
       "886        S  Southampton\n",
       "887        S  Southampton\n",
       "888        S  Southampton\n",
       "889        C    Cherbourg\n",
       "890        Q   Queenstown\n",
       "\n",
       "[891 rows x 2 columns]"
      ]
     },
     "metadata": {},
     "output_type": "display_data"
    }
   ],
   "source": [
    "# 변수 embarked와 embark_town이 무엇인지 확인\n",
    "display(df.loc[:,['embarked','embark_town']]) # 사실상 동일한 변수임 -> 한 변수는 제거\n",
    "df.drop(columns = ['embarked'],inplace = True)"
   ]
  },
  {
   "cell_type": "code",
   "execution_count": 1198,
   "metadata": {},
   "outputs": [
    {
     "data": {
      "text/html": [
       "<div>\n",
       "<style scoped>\n",
       "    .dataframe tbody tr th:only-of-type {\n",
       "        vertical-align: middle;\n",
       "    }\n",
       "\n",
       "    .dataframe tbody tr th {\n",
       "        vertical-align: top;\n",
       "    }\n",
       "\n",
       "    .dataframe thead th {\n",
       "        text-align: right;\n",
       "    }\n",
       "</style>\n",
       "<table border=\"1\" class=\"dataframe\">\n",
       "  <thead>\n",
       "    <tr style=\"text-align: right;\">\n",
       "      <th></th>\n",
       "      <th>survived</th>\n",
       "      <th>alive</th>\n",
       "    </tr>\n",
       "  </thead>\n",
       "  <tbody>\n",
       "    <tr>\n",
       "      <th>0</th>\n",
       "      <td>0</td>\n",
       "      <td>no</td>\n",
       "    </tr>\n",
       "    <tr>\n",
       "      <th>1</th>\n",
       "      <td>1</td>\n",
       "      <td>yes</td>\n",
       "    </tr>\n",
       "    <tr>\n",
       "      <th>2</th>\n",
       "      <td>1</td>\n",
       "      <td>yes</td>\n",
       "    </tr>\n",
       "    <tr>\n",
       "      <th>3</th>\n",
       "      <td>1</td>\n",
       "      <td>yes</td>\n",
       "    </tr>\n",
       "    <tr>\n",
       "      <th>4</th>\n",
       "      <td>0</td>\n",
       "      <td>no</td>\n",
       "    </tr>\n",
       "    <tr>\n",
       "      <th>...</th>\n",
       "      <td>...</td>\n",
       "      <td>...</td>\n",
       "    </tr>\n",
       "    <tr>\n",
       "      <th>886</th>\n",
       "      <td>0</td>\n",
       "      <td>no</td>\n",
       "    </tr>\n",
       "    <tr>\n",
       "      <th>887</th>\n",
       "      <td>1</td>\n",
       "      <td>yes</td>\n",
       "    </tr>\n",
       "    <tr>\n",
       "      <th>888</th>\n",
       "      <td>0</td>\n",
       "      <td>no</td>\n",
       "    </tr>\n",
       "    <tr>\n",
       "      <th>889</th>\n",
       "      <td>1</td>\n",
       "      <td>yes</td>\n",
       "    </tr>\n",
       "    <tr>\n",
       "      <th>890</th>\n",
       "      <td>0</td>\n",
       "      <td>no</td>\n",
       "    </tr>\n",
       "  </tbody>\n",
       "</table>\n",
       "<p>891 rows × 2 columns</p>\n",
       "</div>"
      ],
      "text/plain": [
       "     survived alive\n",
       "0           0    no\n",
       "1           1   yes\n",
       "2           1   yes\n",
       "3           1   yes\n",
       "4           0    no\n",
       "..        ...   ...\n",
       "886         0    no\n",
       "887         1   yes\n",
       "888         0    no\n",
       "889         1   yes\n",
       "890         0    no\n",
       "\n",
       "[891 rows x 2 columns]"
      ]
     },
     "metadata": {},
     "output_type": "display_data"
    }
   ],
   "source": [
    "# 변수 survived와 alive가 무엇인지 확인\n",
    "display(df.loc[:,['survived','alive']]) # 사실상 두 변수는 동일한 정보를 나타냄 -> string 형태의 값을 가지는 alive 변수 제거\n",
    "df.drop(columns = ['alive'], inplace = True)"
   ]
  },
  {
   "cell_type": "code",
   "execution_count": 1199,
   "metadata": {},
   "outputs": [
    {
     "data": {
      "text/plain": [
       "survived         0\n",
       "pclass           0\n",
       "sex              0\n",
       "age            177\n",
       "sibsp            0\n",
       "parch            0\n",
       "fare             0\n",
       "class            0\n",
       "adult_male       0\n",
       "deck           688\n",
       "embark_town      2\n",
       "alone            0\n",
       "dtype: int64"
      ]
     },
     "metadata": {},
     "output_type": "display_data"
    }
   ],
   "source": [
    "# 결측치 확인\n",
    "display(df.isnull().sum()) # 전체 Instance 수가 891인데 'deck'에는 결측치가 688개 존재 -> deck 변수는 분석에서 제외\n",
    "df.drop(columns = ['deck'], axis = 1, inplace = True)"
   ]
  },
  {
   "cell_type": "code",
   "execution_count": 1200,
   "metadata": {},
   "outputs": [
    {
     "data": {
      "text/plain": [
       "24.00    30\n",
       "22.00    27\n",
       "18.00    26\n",
       "19.00    25\n",
       "28.00    25\n",
       "         ..\n",
       "36.50     1\n",
       "55.50     1\n",
       "0.92      1\n",
       "23.50     1\n",
       "74.00     1\n",
       "Name: age, Length: 88, dtype: int64"
      ]
     },
     "execution_count": 1200,
     "metadata": {},
     "output_type": "execute_result"
    }
   ],
   "source": [
    "# age 변수에 0.92와 같이 float 형태의 값이 있음\n",
    "df['age'].value_counts()"
   ]
  },
  {
   "cell_type": "code",
   "execution_count": 1201,
   "metadata": {},
   "outputs": [
    {
     "data": {
      "text/plain": [
       "25"
      ]
     },
     "execution_count": 1201,
     "metadata": {},
     "output_type": "execute_result"
    }
   ],
   "source": [
    "# 'age' 변수에서 nan이 아니고 0.92와 같이 float인 instance 개수 확인\n",
    "candidates = []\n",
    "for i in list(df['age']):\n",
    "    if not str(i).endswith('0') and not pd.isna(i):\n",
    "        candidates.append(i)\n",
    "\n",
    "len(candidates)"
   ]
  },
  {
   "cell_type": "code",
   "execution_count": 1202,
   "metadata": {},
   "outputs": [
    {
     "data": {
      "text/plain": [
       "0"
      ]
     },
     "execution_count": 1202,
     "metadata": {},
     "output_type": "execute_result"
    }
   ],
   "source": [
    "# 'age' 변수 값 전처리 (반올림)\n",
    "df['age'] = df['age'].apply(lambda x: np.round(x))\n",
    "\n",
    "# 반올림이 제대로 적용되었는지 확인\n",
    "candidates = []\n",
    "for i in list(df['age']):\n",
    "    if not str(i).endswith('0') and not pd.isna(i):\n",
    "        candidates.append(i)\n",
    "\n",
    "len(candidates)"
   ]
  },
  {
   "cell_type": "code",
   "execution_count": 1203,
   "metadata": {},
   "outputs": [],
   "source": [
    "# age가 결측치인 row는 분석에서 제외\n",
    "df = df.dropna(subset = ['age']).reset_index(drop = True)"
   ]
  },
  {
   "cell_type": "code",
   "execution_count": 1204,
   "metadata": {},
   "outputs": [
    {
     "data": {
      "text/plain": [
       "survived       0\n",
       "pclass         0\n",
       "sex            0\n",
       "age            0\n",
       "sibsp          0\n",
       "parch          0\n",
       "fare           0\n",
       "class          0\n",
       "adult_male     0\n",
       "embark_town    2\n",
       "alone          0\n",
       "dtype: int64"
      ]
     },
     "metadata": {},
     "output_type": "display_data"
    },
    {
     "name": "stdout",
     "output_type": "stream",
     "text": [
      "==================== After Pre-Processing ====================\n"
     ]
    },
    {
     "data": {
      "text/plain": [
       "survived       0\n",
       "pclass         0\n",
       "sex            0\n",
       "age            0\n",
       "sibsp          0\n",
       "parch          0\n",
       "fare           0\n",
       "class          0\n",
       "adult_male     0\n",
       "embark_town    0\n",
       "alone          0\n",
       "dtype: int64"
      ]
     },
     "metadata": {},
     "output_type": "display_data"
    }
   ],
   "source": [
    "display(df.isnull().sum())# embark_town 변수에 Null값이 2개 존재\n",
    "\n",
    "# 해당 Instance 제거\n",
    "df = df.dropna(subset = ['embark_town'])\n",
    "\n",
    "print('='*20, 'After Pre-Processing','='*20)\n",
    "display(df.isnull().sum())"
   ]
  },
  {
   "cell_type": "code",
   "execution_count": 1205,
   "metadata": {},
   "outputs": [
    {
     "name": "stdout",
     "output_type": "stream",
     "text": [
      "534 178\n"
     ]
    }
   ],
   "source": [
    "# 독립 변수, Target Attribute 분리\n",
    "y = df.pop('survived')\n",
    "X = df\n",
    "\n",
    "train_X, test_X, train_y, test_y = train_test_split(X, y, test_size = 0.25)\n",
    "print(len(train_X), len(test_X))"
   ]
  },
  {
   "cell_type": "code",
   "execution_count": 1206,
   "metadata": {},
   "outputs": [],
   "source": [
    "# Categorical Feature -> LabelEncoder 이용 String을 Int Label로 매핑\n",
    "from sklearn.preprocessing import LabelEncoder\n",
    "\n",
    "le = LabelEncoder()\n",
    "for feature in ['sex','class','embark_town']:\n",
    "    le = le.fit(X[feature])\n",
    "    train_X[feature] = le.transform(train_X[feature])\n",
    "    test_X[feature] = le.transform(test_X[feature])\n",
    "\n",
    "# Index 초기화\n",
    "train_X.reset_index(drop = True, inplace = True)\n",
    "train_y.reset_index(drop = True, inplace = True)"
   ]
  },
  {
   "cell_type": "markdown",
   "metadata": {},
   "source": [
    "## Bootstrap Dataset 생성"
   ]
  },
  {
   "cell_type": "code",
   "execution_count": 1207,
   "metadata": {},
   "outputs": [],
   "source": [
    "# Bootstrap Dataset 생성 함수 정의\n",
    "def make_bs_data_list(train_X, train_y, bootstrap_num:int, verbose = 0) -> list:\n",
    "    assert len(train_X) == len(train_y), \"Your Train_X's length is not equal to Train_y's length\"\n",
    "    \n",
    "    bootstrap_data_list = []\n",
    "    \n",
    "    total_index = set(range(len(train_X)))\n",
    "\n",
    "    for i in range(bootstrap_num): # 데이터셋을 bootstrap_num만큼 반복 복원 추출 진행\n",
    "        data_index = [data_index for data_index in range(train_X.shape[0])]\n",
    "        random_data_index = np.random.choice(data_index, train_X.shape[0]) # 복원 추출\n",
    "        \n",
    "        valid_index = list(total_index.difference(set(random_data_index)))\n",
    "\n",
    "        bs_train_X = train_X.iloc[random_data_index,]\n",
    "        bs_train_y = train_y.iloc[random_data_index,]\n",
    "        bs_valid_X = train_X.iloc[valid_index,]\n",
    "        bs_valid_y = train_y.iloc[valid_index,]\n",
    "\n",
    "        bootstrap_data_list.append([bs_train_X,bs_train_y, bs_valid_X, bs_valid_y])\n",
    "\n",
    "        if (valid_index != 0) & (verbose == 1):\n",
    "            print(f\"{i+1}번째 Bootstrap을 생성할 때 한 번도 선택되지 않은 Instance가 존재하여 Validation Set을 생성했습니다.\")\n",
    "            print(f'Validation Set으로 사용된 Instance의 수: {len(valid_index)} ({np.round(len(valid_index)/len(total_index)*100,2)}%) \\n')\n",
    "\n",
    "    return bootstrap_data_list"
   ]
  },
  {
   "cell_type": "code",
   "execution_count": 1208,
   "metadata": {},
   "outputs": [
    {
     "name": "stdout",
     "output_type": "stream",
     "text": [
      "1번째 Bootstrap을 생성할 때 한 번도 선택되지 않은 Instance가 존재하여 Validation Set을 생성했습니다.\n",
      "Validation Set으로 사용된 Instance의 수: 193 (36.14%) \n",
      "\n",
      "2번째 Bootstrap을 생성할 때 한 번도 선택되지 않은 Instance가 존재하여 Validation Set을 생성했습니다.\n",
      "Validation Set으로 사용된 Instance의 수: 189 (35.39%) \n",
      "\n",
      "3번째 Bootstrap을 생성할 때 한 번도 선택되지 않은 Instance가 존재하여 Validation Set을 생성했습니다.\n",
      "Validation Set으로 사용된 Instance의 수: 192 (35.96%) \n",
      "\n",
      "4번째 Bootstrap을 생성할 때 한 번도 선택되지 않은 Instance가 존재하여 Validation Set을 생성했습니다.\n",
      "Validation Set으로 사용된 Instance의 수: 197 (36.89%) \n",
      "\n",
      "5번째 Bootstrap을 생성할 때 한 번도 선택되지 않은 Instance가 존재하여 Validation Set을 생성했습니다.\n",
      "Validation Set으로 사용된 Instance의 수: 202 (37.83%) \n",
      "\n",
      "6번째 Bootstrap을 생성할 때 한 번도 선택되지 않은 Instance가 존재하여 Validation Set을 생성했습니다.\n",
      "Validation Set으로 사용된 Instance의 수: 194 (36.33%) \n",
      "\n",
      "7번째 Bootstrap을 생성할 때 한 번도 선택되지 않은 Instance가 존재하여 Validation Set을 생성했습니다.\n",
      "Validation Set으로 사용된 Instance의 수: 198 (37.08%) \n",
      "\n",
      "8번째 Bootstrap을 생성할 때 한 번도 선택되지 않은 Instance가 존재하여 Validation Set을 생성했습니다.\n",
      "Validation Set으로 사용된 Instance의 수: 191 (35.77%) \n",
      "\n",
      "9번째 Bootstrap을 생성할 때 한 번도 선택되지 않은 Instance가 존재하여 Validation Set을 생성했습니다.\n",
      "Validation Set으로 사용된 Instance의 수: 211 (39.51%) \n",
      "\n"
     ]
    }
   ],
   "source": [
    "bs_data_list = make_bs_data_list(train_X, train_y, 9, verbose = 1) # bs_data_list = [[Bootstrap1's train_X, Bootstrap1's train_Y, Bootstrap1's valid_X, Bootstrap1's valid_Y], ...]"
   ]
  },
  {
   "cell_type": "markdown",
   "metadata": {},
   "source": [
    "## Base Model 정의"
   ]
  },
  {
   "cell_type": "markdown",
   "metadata": {},
   "source": [
    "### Decision Tree"
   ]
  },
  {
   "cell_type": "code",
   "execution_count": 1223,
   "metadata": {},
   "outputs": [],
   "source": [
    "from sklearn.tree import DecisionTreeClassifier"
   ]
  },
  {
   "cell_type": "code",
   "execution_count": 1314,
   "metadata": {},
   "outputs": [],
   "source": [
    "def make_classifier(bs_data_list:list, bootstrap_num:int ,dt_max_depth:int, max_leaf_nodes:int):\n",
    "    '''\n",
    "    input: bs_data_list, bootstrap_num, dt_max_depth\n",
    "    output: decision_trees\n",
    "\n",
    "    boostrap_num: Should be same number(int) that used ini \"make_bs_data_list\" function\n",
    "    '''\n",
    "    models_list = []\n",
    "\n",
    "    for idx, xy in enumerate(range(bootstrap_num)):\n",
    "        train_x, train_y = bs_data_list[xy][0], bs_data_list[xy][1]\n",
    "        globals()['{}_th_dt'.format(idx)] = DecisionTreeClassifier(max_depth = dt_max_depth, max_leaf_nodes= max_leaf_nodes).fit(train_x,train_y)\n",
    "        models_list.append(globals()['{}_th_dt'.format(idx)])\n",
    "    \n",
    "    return models_list"
   ]
  },
  {
   "cell_type": "code",
   "execution_count": 1315,
   "metadata": {},
   "outputs": [],
   "source": [
    "# bm_groups = [max_depth = 1인 Base Model들로 구성된 첫번째 앙상블에 사용될 모델들, max_depth = 2인 Base Model들로 구성된 두번째 앙상블에 사용될 모델들, ... ]\n",
    "bm_groups = []\n",
    "\n",
    "for i in [2,4,8,16]:\n",
    "    globals()['{}_dt_group'.format(i)] = make_classifier(bs_data_list, bootstrap_num = 9, dt_max_depth= i, max_leaf_nodes= 20)\n",
    "    bm_groups.append(globals()['{}_dt_group'.format(i)])"
   ]
  },
  {
   "cell_type": "markdown",
   "metadata": {},
   "source": [
    "### Logistic Regressor"
   ]
  },
  {
   "cell_type": "code",
   "execution_count": 1321,
   "metadata": {},
   "outputs": [],
   "source": [
    "from sklearn.linear_model import LogisticRegression\n",
    "\n",
    "def make_classifier(bs_data_list:list, bootstrap_num:int, C:float):\n",
    "    models_list = []\n",
    "\n",
    "    for idx, xy in enumerate(range(bootstrap_num)):\n",
    "        train_x, train_y = bs_data_list[xy][0], bs_data_list[xy][1]\n",
    "        globals()['{}_th_dt'.format(idx)] = LogisticRegression(C = C).fit(train_x,train_y)\n",
    "        models_list.append(globals()['{}_th_dt'.format(idx)])\n",
    "    \n",
    "    return models_list"
   ]
  },
  {
   "cell_type": "code",
   "execution_count": 1328,
   "metadata": {},
   "outputs": [],
   "source": [
    "# 로지스틱 회귀분석 하이퍼 파라미터 중 C 값 변화\n",
    "bm_groups = []\n",
    "\n",
    "for c in [0.00001, 0.001, 1, 100, 10000]:\n",
    "    globals()['{}_dt_group'.format(i)] = make_classifier(bs_data_list, bootstrap_num= 9, C = c)\n",
    "    bm_groups.append(globals()['{}_dt_group'.format(i)])\n"
   ]
  },
  {
   "cell_type": "markdown",
   "metadata": {},
   "source": [
    "### SVC"
   ]
  },
  {
   "cell_type": "code",
   "execution_count": 1132,
   "metadata": {},
   "outputs": [],
   "source": [
    "from sklearn.svm import SVC\n",
    "\n",
    "def make_classifier(bs_data_list:list, bootstrap_num:int, kernel):\n",
    "\n",
    "    models_list = []\n",
    "\n",
    "    for idx, xy in enumerate(range(bootstrap_num)):\n",
    "        train_x, train_y = bs_data_list[xy][0], bs_data_list[xy][1]\n",
    "        globals()['{}_th_dt'.format(idx)] = SVC(kernel = kernel).fit(train_x,train_y)\n",
    "        models_list.append(globals()['{}_th_dt'.format(idx)])\n",
    "    \n",
    "    return models_list"
   ]
  },
  {
   "cell_type": "code",
   "execution_count": 1133,
   "metadata": {},
   "outputs": [],
   "source": [
    "# SVC Kernel 변화\n",
    "bm_groups = []\n",
    "\n",
    "for kernel in ['linear','poly','rbf','sigmoid']:\n",
    "    globals()['{}_dt_group'.format(i)] = make_classifier(bs_data_list, bootstrap_num= 9, kernel = kernel)\n",
    "    bm_groups.append(globals()['{}_dt_group'.format(i)])"
   ]
  },
  {
   "cell_type": "markdown",
   "metadata": {},
   "source": [
    "## Majority Voting"
   ]
  },
  {
   "cell_type": "code",
   "execution_count": 1329,
   "metadata": {},
   "outputs": [],
   "source": [
    "# 위 Base Model Group 별로 각 Base Model을 생성하는데 사용된 Bootstrap의 Validation Set에 대한 F1 Score 확인\n",
    "def check_basemodel_avg_f1(bs_data_list: list, bm_group: list) -> float:\n",
    "    f1s = []\n",
    "    avg_f1 = []\n",
    "\n",
    "    for i, bootstrap in enumerate(bs_data_list):\n",
    "        _, _, valid_x, valid_y = bootstrap\n",
    "        pred = bm_group[i].predict(valid_x)\n",
    "        f1s.append(f1_score(valid_y, pred))\n",
    "        avg_f1 = np.mean(f1s)\n",
    "    \n",
    "    return avg_f1"
   ]
  },
  {
   "cell_type": "code",
   "execution_count": 1330,
   "metadata": {},
   "outputs": [
    {
     "name": "stdout",
     "output_type": "stream",
     "text": [
      "0.35\n",
      "0.53\n",
      "0.77\n",
      "0.77\n",
      "0.77\n"
     ]
    }
   ],
   "source": [
    "# Base Model Group 별 평균 F1 Score 확인 \n",
    "for bm_group in bm_groups:\n",
    "    print(np.round(check_basemodel_avg_f1(bs_data_list, bm_group),2))"
   ]
  },
  {
   "cell_type": "code",
   "execution_count": 1331,
   "metadata": {},
   "outputs": [],
   "source": [
    "# 각 BM Group내에 있는 Base Model들의 Test Set에 대한 F1 성능 반환 함수 정의\n",
    "# :각 BM Group내에 있는 Base Model들의 Test Set에 대한 성능과 Base Model들의 결과를 Majority Voting해서 얻은 성능 차이 비교하기 위함\n",
    "def pred_result_per_bm_group(bm_group, test_X, test_y):\n",
    "    \n",
    "    bm_f1_list = []\n",
    "\n",
    "    for bm in bm_group:\n",
    "        pred_result = bm.predict(test_X)\n",
    "        f1 = np.round(f1_score(test_y, pred_result), 4)\n",
    "        bm_f1_list.append(f1)\n",
    "\n",
    "    return bm_f1_list"
   ]
  },
  {
   "cell_type": "code",
   "execution_count": 1332,
   "metadata": {},
   "outputs": [],
   "source": [
    "def majority_voting(bm_group:list, test_X):\n",
    "    preds_per_bm_group = [bm.predict(test_X) for bm in bm_group]\n",
    "    mv_pred = pd.DataFrame(preds_per_bm_group).T.mode(axis = 1)\n",
    "\n",
    "    return mv_pred"
   ]
  },
  {
   "cell_type": "code",
   "execution_count": 1333,
   "metadata": {},
   "outputs": [
    {
     "name": "stdout",
     "output_type": "stream",
     "text": [
      "Base Model's F1 Scores: [0.382, 0.2308, 0.3778, 0.2308, 0.382, 0.3448, 0.4, 0.3636, 0.382], Ensemble Model's F1 Score: 0.382\n"
     ]
    },
    {
     "data": {
      "image/png": "[encoded data removed]",
      "text/plain": [
       "<Figure size 640x480 with 1 Axes>"
      ]
     },
     "metadata": {},
     "output_type": "display_data"
    },
    {
     "name": "stdout",
     "output_type": "stream",
     "text": [
      "Base Model's F1 Scores: [0.4528, 0.382, 0.4364, 0.4356, 0.434, 0.4381, 0.4324, 0.4314, 0.4381], Ensemble Model's F1 Score: 0.4231\n"
     ]
    },
    {
     "data": {
      "image/png": "[encoded data removed]",
      "text/plain": [
       "<Figure size 640x480 with 1 Axes>"
      ]
     },
     "metadata": {},
     "output_type": "display_data"
    },
    {
     "name": "stdout",
     "output_type": "stream",
     "text": [
      "Base Model's F1 Scores: [0.7559, 0.768, 0.7656, 0.7538, 0.7559, 0.7559, 0.75, 0.7559, 0.7805], Ensemble Model's F1 Score: 0.7559\n"
     ]
    },
    {
     "data": {
      "image/png": "[encoded data removed]",
      "text/plain": [
       "<Figure size 640x480 with 1 Axes>"
      ]
     },
     "metadata": {},
     "output_type": "display_data"
    },
    {
     "name": "stdout",
     "output_type": "stream",
     "text": [
      "Base Model's F1 Scores: [0.7619, 0.7559, 0.7559, 0.7538, 0.75, 0.7402, 0.7442, 0.7559, 0.7667], Ensemble Model's F1 Score: 0.75\n"
     ]
    },
    {
     "data": {
      "image/png": "[encoded data removed]",
      "text/plain": [
       "<Figure size 640x480 with 1 Axes>"
      ]
     },
     "metadata": {},
     "output_type": "display_data"
    },
    {
     "name": "stdout",
     "output_type": "stream",
     "text": [
      "Base Model's F1 Scores: [0.7619, 0.7619, 0.7656, 0.7538, 0.75, 0.7402, 0.7442, 0.7559, 0.7769], Ensemble Model's F1 Score: 0.75\n"
     ]
    },
    {
     "data": {
      "image/png": "[encoded data removed]",
      "text/plain": [
       "<Figure size 640x480 with 1 Axes>"
      ]
     },
     "metadata": {},
     "output_type": "display_data"
    }
   ],
   "source": [
    "import matplotlib.pyplot as plt\n",
    "\n",
    "for bm_group in bm_groups:\n",
    "    bm_f1_list = pred_result_per_bm_group(bm_group, test_X, test_y) # bm_f1_list example: [0.3429, 0.3967, 0.5103, 0.493, 0.4298, 0.5139, 0.3704, 0.493, 0.4386]\n",
    "    mv_pred = majority_voting(bm_group, test_X)\n",
    "    ensemble_f1 = np.round(f1_score(test_y, mv_pred),4)\n",
    "    \n",
    "    print(f\"Base Model's F1 Scores: {bm_f1_list}, Ensemble Model's F1 Score: {ensemble_f1}\")\n",
    "\n",
    "    plt.xlabel('Base Model')\n",
    "    plt.ylabel('F1 Score')\n",
    "    plt.bar(range(len(bm_f1_list)), bm_f1_list)\n",
    "    plt.gca().axhline(ensemble_f1,0,1, color = 'red') # Ensemble 결과 F1 Score는 Red Line으로 표시\n",
    "\n",
    "    plt.show()"
   ]
  }
 ],
 "metadata": {
  "kernelspec": {
   "display_name": "Python 3.7.13 ('base')",
   "language": "python",
   "name": "python3"
  },
  "language_info": {
   "codemirror_mode": {
    "name": "ipython",
    "version": 3
   },
   "file_extension": ".py",
   "mimetype": "text/x-python",
   "name": "python",
   "nbconvert_exporter": "python",
   "pygments_lexer": "ipython3",
   "version": "3.7.15"
  },
  "orig_nbformat": 4,
  "vscode": {
   "interpreter": {
    "hash": "d4d1e4263499bec80672ea0156c357c1ee493ec2b1c70f0acce89fc37c4a6abe"
   }
  }
 },
 "nbformat": 4,
 "nbformat_minor": 2
}
